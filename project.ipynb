{
 "cells": [
  {
   "cell_type": "code",
   "execution_count": null,
   "id": "48c72c9f-1719-477e-965f-846ff0163e00",
   "metadata": {},
   "outputs": [
    {
     "name": "stdout",
     "output_type": "stream",
     "text": [
      "\n",
      "--- Train Ticket Reservation Menu ---\n",
      "1. Book Ticket\n",
      "2. Cancel Ticket\n",
      "3. View Booked Tickets\n",
      "4. Exit\n"
     ]
    }
   ],
   "source": [
    "import uuid\n",
    "\n",
    "class TrainTicketSystem:\n",
    "    def _init_(self):\n",
    "        self.booked_tickets = []\n",
    "\n",
    "    def show_menu(self):\n",
    "        print(\"\\n--- Train Ticket Reservation Menu ---\")\n",
    "        print(\"1. Book Ticket\")\n",
    "        print(\"2. Cancel Ticket\")\n",
    "        print(\"3. View Booked Tickets\")\n",
    "        print(\"4. Exit\")\n",
    "        \n",
    "    def book_ticket(self, passenger_name, train_number, destination):\n",
    "        ticket_id = str(uuid.uuid4())  # Generate a unique ID\n",
    "        ticket = {\n",
    "            'ticket_id': ticket_id,\n",
    "            'passenger_name': passenger_name,\n",
    "            'train_number': train_number,\n",
    "            'destination': destination,\n",
    "        }\n",
    "        self.booked_tickets.append(ticket)\n",
    "        print(f\"Ticket booked successfully for {passenger_name}! Ticket ID: {ticket_id}\")\n",
    "    \n",
    "    def cancel_ticket(self, ticket_id):\n",
    "        for ticket in self.booked_tickets:\n",
    "            if ticket['ticket_id'] == ticket_id:\n",
    "                self.booked_tickets.remove(ticket)\n",
    "                print(f\"Ticket with ID {ticket_id} has been canceled.\")\n",
    "                return\n",
    "        print(f\"No ticket found with ID {ticket_id}.\")\n",
    "    \n",
    "    def view_booked_tickets(self):\n",
    "        if not self.booked_tickets:\n",
    "            print(\"No tickets booked yet.\")\n",
    "        else:\n",
    "            print(\"\\n--- Booked Tickets ---\")\n",
    "            for idx, ticket in enumerate(self.booked_tickets, start=1):\n",
    "                print(f\"{idx}. ID: {ticket['ticket_id']}, Name: {ticket['passenger_name']}, Train: {ticket['train_number']}, Destination: {ticket['destination']}\")\n",
    "    \n",
    "    def start(self):\n",
    "        while True:\n",
    "            self.show_menu()\n",
    "            choice = input(\"\\nEnter your choice (1-4): \")\n",
    "            \n",
    "            try:\n",
    "                if choice == '1':\n",
    "                    name = input(\"Enter passenger name: \").strip()\n",
    "                    train_no = input(\"Enter train number: \").strip()\n",
    "                    destination = input(\"Enter destination: \").strip()\n",
    "                    if name and train_no and destination:\n",
    "                        self.book_ticket(name, train_no, destination)\n",
    "                    else:\n",
    "                        print(\"All fields are required.\")\n",
    "                elif choice == '2':\n",
    "                    ticket_id = input(\"Enter the ticket ID to cancel: \").strip()\n",
    "                    self.cancel_ticket(ticket_id)\n",
    "                elif choice == '3':\n",
    "                    self.view_booked_tickets()\n",
    "                elif choice == '4':\n",
    "                    print(\"Exiting the system. Goodbye!\")\n",
    "                    break\n",
    "                else:\n",
    "                    print(\"Invalid choice, please try again.\")\n",
    "            except Exception as e:\n",
    "                print(f\"An error occurred: {e}\")\n",
    "\n",
    "# Initialize the system and start it\n",
    "system = TrainTicketSystem()\n",
    "system.start()"
   ]
  },
  {
   "cell_type": "code",
   "execution_count": null,
   "id": "81851943-241b-45bd-8e24-9c0866e7c52c",
   "metadata": {},
   "outputs": [],
   "source": []
  }
 ],
 "metadata": {
  "kernelspec": {
   "display_name": "Python 3 (ipykernel)",
   "language": "python",
   "name": "python3"
  },
  "language_info": {
   "codemirror_mode": {
    "name": "ipython",
    "version": 3
   },
   "file_extension": ".py",
   "mimetype": "text/x-python",
   "name": "python",
   "nbconvert_exporter": "python",
   "pygments_lexer": "ipython3",
   "version": "3.12.4"
  }
 },
 "nbformat": 4,
 "nbformat_minor": 5
}
